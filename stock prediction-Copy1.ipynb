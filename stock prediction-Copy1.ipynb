{
 "cells": [
  {
   "cell_type": "code",
   "execution_count": 1,
   "id": "57dd87a6",
   "metadata": {},
   "outputs": [],
   "source": [
    "import pandas as pd\n",
    "import numpy as np\n",
    "import matplotlib.pyplot as plt\n",
    "from sklearn.preprocessing import MinMaxScaler"
   ]
  },
  {
   "cell_type": "code",
   "execution_count": 2,
   "id": "c903cd95",
   "metadata": {},
   "outputs": [],
   "source": [
    "df= pd.read_csv(r'C:\\Users\\hp\\Downloads\\axisbank\\axis.csv')"
   ]
  },
  {
   "cell_type": "code",
   "execution_count": 3,
   "id": "08b8a3b1",
   "metadata": {},
   "outputs": [
    {
     "data": {
      "text/html": [
       "<div>\n",
       "<style scoped>\n",
       "    .dataframe tbody tr th:only-of-type {\n",
       "        vertical-align: middle;\n",
       "    }\n",
       "\n",
       "    .dataframe tbody tr th {\n",
       "        vertical-align: top;\n",
       "    }\n",
       "\n",
       "    .dataframe thead th {\n",
       "        text-align: right;\n",
       "    }\n",
       "</style>\n",
       "<table border=\"1\" class=\"dataframe\">\n",
       "  <thead>\n",
       "    <tr style=\"text-align: right;\">\n",
       "      <th></th>\n",
       "      <th>timestamp</th>\n",
       "      <th>open</th>\n",
       "      <th>high</th>\n",
       "      <th>low</th>\n",
       "      <th>close</th>\n",
       "      <th>volume</th>\n",
       "    </tr>\n",
       "  </thead>\n",
       "  <tbody>\n",
       "    <tr>\n",
       "      <th>0</th>\n",
       "      <td>2017-01-02 09:15:00+05:30</td>\n",
       "      <td>451.40</td>\n",
       "      <td>452.00</td>\n",
       "      <td>450.60</td>\n",
       "      <td>451.20</td>\n",
       "      <td>29198.0</td>\n",
       "    </tr>\n",
       "    <tr>\n",
       "      <th>1</th>\n",
       "      <td>2017-01-02 09:16:00+05:30</td>\n",
       "      <td>451.15</td>\n",
       "      <td>451.15</td>\n",
       "      <td>450.50</td>\n",
       "      <td>450.80</td>\n",
       "      <td>12539.0</td>\n",
       "    </tr>\n",
       "    <tr>\n",
       "      <th>2</th>\n",
       "      <td>2017-01-02 09:17:00+05:30</td>\n",
       "      <td>450.50</td>\n",
       "      <td>450.80</td>\n",
       "      <td>449.30</td>\n",
       "      <td>449.30</td>\n",
       "      <td>26833.0</td>\n",
       "    </tr>\n",
       "    <tr>\n",
       "      <th>3</th>\n",
       "      <td>2017-01-02 09:18:00+05:30</td>\n",
       "      <td>449.30</td>\n",
       "      <td>450.10</td>\n",
       "      <td>448.95</td>\n",
       "      <td>449.75</td>\n",
       "      <td>12067.0</td>\n",
       "    </tr>\n",
       "    <tr>\n",
       "      <th>4</th>\n",
       "      <td>2017-01-02 09:19:00+05:30</td>\n",
       "      <td>449.75</td>\n",
       "      <td>450.30</td>\n",
       "      <td>449.25</td>\n",
       "      <td>449.80</td>\n",
       "      <td>15675.0</td>\n",
       "    </tr>\n",
       "  </tbody>\n",
       "</table>\n",
       "</div>"
      ],
      "text/plain": [
       "                   timestamp    open    high     low   close   volume\n",
       "0  2017-01-02 09:15:00+05:30  451.40  452.00  450.60  451.20  29198.0\n",
       "1  2017-01-02 09:16:00+05:30  451.15  451.15  450.50  450.80  12539.0\n",
       "2  2017-01-02 09:17:00+05:30  450.50  450.80  449.30  449.30  26833.0\n",
       "3  2017-01-02 09:18:00+05:30  449.30  450.10  448.95  449.75  12067.0\n",
       "4  2017-01-02 09:19:00+05:30  449.75  450.30  449.25  449.80  15675.0"
      ]
     },
     "execution_count": 3,
     "metadata": {},
     "output_type": "execute_result"
    }
   ],
   "source": [
    "df.head()"
   ]
  },
  {
   "cell_type": "code",
   "execution_count": 4,
   "id": "af293cdc",
   "metadata": {},
   "outputs": [
    {
     "data": {
      "text/html": [
       "<div>\n",
       "<style scoped>\n",
       "    .dataframe tbody tr th:only-of-type {\n",
       "        vertical-align: middle;\n",
       "    }\n",
       "\n",
       "    .dataframe tbody tr th {\n",
       "        vertical-align: top;\n",
       "    }\n",
       "\n",
       "    .dataframe thead th {\n",
       "        text-align: right;\n",
       "    }\n",
       "</style>\n",
       "<table border=\"1\" class=\"dataframe\">\n",
       "  <thead>\n",
       "    <tr style=\"text-align: right;\">\n",
       "      <th></th>\n",
       "      <th>open</th>\n",
       "      <th>high</th>\n",
       "      <th>low</th>\n",
       "      <th>close</th>\n",
       "      <th>volume</th>\n",
       "    </tr>\n",
       "  </thead>\n",
       "  <tbody>\n",
       "    <tr>\n",
       "      <th>count</th>\n",
       "      <td>370408.000000</td>\n",
       "      <td>370408.000000</td>\n",
       "      <td>370408.000000</td>\n",
       "      <td>370408.000000</td>\n",
       "      <td>3.704080e+05</td>\n",
       "    </tr>\n",
       "    <tr>\n",
       "      <th>mean</th>\n",
       "      <td>578.579463</td>\n",
       "      <td>578.922061</td>\n",
       "      <td>578.222159</td>\n",
       "      <td>578.574511</td>\n",
       "      <td>3.664231e+04</td>\n",
       "    </tr>\n",
       "    <tr>\n",
       "      <th>std</th>\n",
       "      <td>112.796840</td>\n",
       "      <td>112.799688</td>\n",
       "      <td>112.787688</td>\n",
       "      <td>112.795615</td>\n",
       "      <td>8.097951e+04</td>\n",
       "    </tr>\n",
       "    <tr>\n",
       "      <th>min</th>\n",
       "      <td>288.650000</td>\n",
       "      <td>291.550000</td>\n",
       "      <td>286.700000</td>\n",
       "      <td>288.300000</td>\n",
       "      <td>0.000000e+00</td>\n",
       "    </tr>\n",
       "    <tr>\n",
       "      <th>25%</th>\n",
       "      <td>502.800000</td>\n",
       "      <td>503.000000</td>\n",
       "      <td>502.500000</td>\n",
       "      <td>502.800000</td>\n",
       "      <td>7.965000e+03</td>\n",
       "    </tr>\n",
       "    <tr>\n",
       "      <th>50%</th>\n",
       "      <td>544.700000</td>\n",
       "      <td>544.950000</td>\n",
       "      <td>544.400000</td>\n",
       "      <td>544.700000</td>\n",
       "      <td>1.670300e+04</td>\n",
       "    </tr>\n",
       "    <tr>\n",
       "      <th>75%</th>\n",
       "      <td>670.500000</td>\n",
       "      <td>670.900000</td>\n",
       "      <td>670.050000</td>\n",
       "      <td>670.500000</td>\n",
       "      <td>3.833925e+04</td>\n",
       "    </tr>\n",
       "    <tr>\n",
       "      <th>max</th>\n",
       "      <td>827.300000</td>\n",
       "      <td>827.650000</td>\n",
       "      <td>827.000000</td>\n",
       "      <td>827.200000</td>\n",
       "      <td>1.257453e+07</td>\n",
       "    </tr>\n",
       "  </tbody>\n",
       "</table>\n",
       "</div>"
      ],
      "text/plain": [
       "                open           high            low          close  \\\n",
       "count  370408.000000  370408.000000  370408.000000  370408.000000   \n",
       "mean      578.579463     578.922061     578.222159     578.574511   \n",
       "std       112.796840     112.799688     112.787688     112.795615   \n",
       "min       288.650000     291.550000     286.700000     288.300000   \n",
       "25%       502.800000     503.000000     502.500000     502.800000   \n",
       "50%       544.700000     544.950000     544.400000     544.700000   \n",
       "75%       670.500000     670.900000     670.050000     670.500000   \n",
       "max       827.300000     827.650000     827.000000     827.200000   \n",
       "\n",
       "             volume  \n",
       "count  3.704080e+05  \n",
       "mean   3.664231e+04  \n",
       "std    8.097951e+04  \n",
       "min    0.000000e+00  \n",
       "25%    7.965000e+03  \n",
       "50%    1.670300e+04  \n",
       "75%    3.833925e+04  \n",
       "max    1.257453e+07  "
      ]
     },
     "execution_count": 4,
     "metadata": {},
     "output_type": "execute_result"
    }
   ],
   "source": [
    "df.describe()"
   ]
  },
  {
   "cell_type": "code",
   "execution_count": 5,
   "id": "a79e5f51",
   "metadata": {},
   "outputs": [
    {
     "data": {
      "text/plain": [
       "(370546, 6)"
      ]
     },
     "execution_count": 5,
     "metadata": {},
     "output_type": "execute_result"
    }
   ],
   "source": [
    "df.shape"
   ]
  },
  {
   "cell_type": "code",
   "execution_count": 6,
   "id": "63f09025",
   "metadata": {},
   "outputs": [
    {
     "data": {
      "text/plain": [
       "<bound method DataFrame.info of                         timestamp    open    high     low   close   volume\n",
       "0       2017-01-02 09:15:00+05:30  451.40  452.00  450.60  451.20  29198.0\n",
       "1       2017-01-02 09:16:00+05:30  451.15  451.15  450.50  450.80  12539.0\n",
       "2       2017-01-02 09:17:00+05:30  450.50  450.80  449.30  449.30  26833.0\n",
       "3       2017-01-02 09:18:00+05:30  449.30  450.10  448.95  449.75  12067.0\n",
       "4       2017-01-02 09:19:00+05:30  449.75  450.30  449.25  449.80  15675.0\n",
       "...                           ...     ...     ...     ...     ...      ...\n",
       "370541  2021-01-01 15:25:00+05:30  624.35  624.35  623.65  624.00  28490.0\n",
       "370542  2021-01-01 15:26:00+05:30  624.00  624.00  623.50  623.55  13972.0\n",
       "370543  2021-01-01 15:27:00+05:30  623.55  623.60  622.95  623.00  20251.0\n",
       "370544  2021-01-01 15:28:00+05:30  623.20  623.25  621.55  622.55  50190.0\n",
       "370545  2021-01-01 15:29:00+05:30  622.20  624.50  622.00  623.40  24345.0\n",
       "\n",
       "[370546 rows x 6 columns]>"
      ]
     },
     "execution_count": 6,
     "metadata": {},
     "output_type": "execute_result"
    }
   ],
   "source": [
    "df.info"
   ]
  },
  {
   "cell_type": "code",
   "execution_count": 7,
   "id": "f45025ab",
   "metadata": {},
   "outputs": [
    {
     "data": {
      "text/html": [
       "<div>\n",
       "<style scoped>\n",
       "    .dataframe tbody tr th:only-of-type {\n",
       "        vertical-align: middle;\n",
       "    }\n",
       "\n",
       "    .dataframe tbody tr th {\n",
       "        vertical-align: top;\n",
       "    }\n",
       "\n",
       "    .dataframe thead th {\n",
       "        text-align: right;\n",
       "    }\n",
       "</style>\n",
       "<table border=\"1\" class=\"dataframe\">\n",
       "  <thead>\n",
       "    <tr style=\"text-align: right;\">\n",
       "      <th></th>\n",
       "      <th>timestamp</th>\n",
       "      <th>open</th>\n",
       "      <th>high</th>\n",
       "      <th>low</th>\n",
       "      <th>close</th>\n",
       "      <th>volume</th>\n",
       "    </tr>\n",
       "  </thead>\n",
       "  <tbody>\n",
       "    <tr>\n",
       "      <th>0</th>\n",
       "      <td>2017-01-02 09:15:00+05:30</td>\n",
       "      <td>451.40</td>\n",
       "      <td>452.00</td>\n",
       "      <td>450.60</td>\n",
       "      <td>451.20</td>\n",
       "      <td>29198.0</td>\n",
       "    </tr>\n",
       "    <tr>\n",
       "      <th>1</th>\n",
       "      <td>2017-01-02 09:16:00+05:30</td>\n",
       "      <td>451.15</td>\n",
       "      <td>451.15</td>\n",
       "      <td>450.50</td>\n",
       "      <td>450.80</td>\n",
       "      <td>12539.0</td>\n",
       "    </tr>\n",
       "    <tr>\n",
       "      <th>2</th>\n",
       "      <td>2017-01-02 09:17:00+05:30</td>\n",
       "      <td>450.50</td>\n",
       "      <td>450.80</td>\n",
       "      <td>449.30</td>\n",
       "      <td>449.30</td>\n",
       "      <td>26833.0</td>\n",
       "    </tr>\n",
       "    <tr>\n",
       "      <th>3</th>\n",
       "      <td>2017-01-02 09:18:00+05:30</td>\n",
       "      <td>449.30</td>\n",
       "      <td>450.10</td>\n",
       "      <td>448.95</td>\n",
       "      <td>449.75</td>\n",
       "      <td>12067.0</td>\n",
       "    </tr>\n",
       "    <tr>\n",
       "      <th>4</th>\n",
       "      <td>2017-01-02 09:19:00+05:30</td>\n",
       "      <td>449.75</td>\n",
       "      <td>450.30</td>\n",
       "      <td>449.25</td>\n",
       "      <td>449.80</td>\n",
       "      <td>15675.0</td>\n",
       "    </tr>\n",
       "  </tbody>\n",
       "</table>\n",
       "</div>"
      ],
      "text/plain": [
       "                   timestamp    open    high     low   close   volume\n",
       "0  2017-01-02 09:15:00+05:30  451.40  452.00  450.60  451.20  29198.0\n",
       "1  2017-01-02 09:16:00+05:30  451.15  451.15  450.50  450.80  12539.0\n",
       "2  2017-01-02 09:17:00+05:30  450.50  450.80  449.30  449.30  26833.0\n",
       "3  2017-01-02 09:18:00+05:30  449.30  450.10  448.95  449.75  12067.0\n",
       "4  2017-01-02 09:19:00+05:30  449.75  450.30  449.25  449.80  15675.0"
      ]
     },
     "execution_count": 7,
     "metadata": {},
     "output_type": "execute_result"
    }
   ],
   "source": [
    "df.head()"
   ]
  },
  {
   "cell_type": "code",
   "execution_count": 8,
   "id": "3d3c48d5",
   "metadata": {},
   "outputs": [
    {
     "data": {
      "text/plain": [
       "timestamp      0\n",
       "open         138\n",
       "high         138\n",
       "low          138\n",
       "close        138\n",
       "volume       138\n",
       "dtype: int64"
      ]
     },
     "execution_count": 8,
     "metadata": {},
     "output_type": "execute_result"
    }
   ],
   "source": [
    "df.isnull().sum()"
   ]
  },
  {
   "cell_type": "code",
   "execution_count": 10,
   "id": "184d7690",
   "metadata": {},
   "outputs": [],
   "source": [
    "new_df= pd.read_csv(r'C:\\Users\\hp\\Downloads\\axisbank\\axis.csv', parse_dates=['timestamp'])"
   ]
  },
  {
   "cell_type": "code",
   "execution_count": 11,
   "id": "e87e9335",
   "metadata": {},
   "outputs": [
    {
     "name": "stdout",
     "output_type": "stream",
     "text": [
      "<class 'pandas._libs.tslibs.timestamps.Timestamp'>\n"
     ]
    }
   ],
   "source": [
    "new_df['timestamp']= pd.to_datetime(new_df['timestamp'], errors='coerce')\n",
    "print (type(new_df.timestamp[0]))"
   ]
  },
  {
   "cell_type": "code",
   "execution_count": 12,
   "id": "dca650e1",
   "metadata": {},
   "outputs": [
    {
     "data": {
      "text/plain": [
       "0   2017-01-02 09:15:00+05:30\n",
       "1   2017-01-02 09:16:00+05:30\n",
       "2   2017-01-02 09:17:00+05:30\n",
       "3   2017-01-02 09:18:00+05:30\n",
       "4   2017-01-02 09:19:00+05:30\n",
       "Name: timestamp, dtype: datetime64[ns, pytz.FixedOffset(330)]"
      ]
     },
     "execution_count": 12,
     "metadata": {},
     "output_type": "execute_result"
    }
   ],
   "source": [
    "new_df.sort_values(by=['timestamp'], inplace=True, ascending=True)\n",
    "new_df.timestamp.head()"
   ]
  },
  {
   "cell_type": "markdown",
   "id": "f2143223",
   "metadata": {},
   "source": [
    "### data visualisation"
   ]
  },
  {
   "cell_type": "code",
   "execution_count": 14,
   "id": "53bb5dc6",
   "metadata": {},
   "outputs": [
    {
     "data": {
      "text/plain": [
       "<matplotlib.collections.PathCollection at 0x1d358a22dd0>"
      ]
     },
     "execution_count": 14,
     "metadata": {},
     "output_type": "execute_result"
    },
    {
     "data": {
      "image/png": "[encoded data removed]",
      "text/plain": [
       "<Figure size 640x480 with 1 Axes>"
      ]
     },
     "metadata": {},
     "output_type": "display_data"
    }
   ],
   "source": [
    "fig,ax=plt.subplots()\n",
    "ax.scatter(new_df.timestamp, new_df.close)"
   ]
  },
  {
   "cell_type": "code",
   "execution_count": 15,
   "id": "021a7df2",
   "metadata": {},
   "outputs": [
    {
     "data": {
      "text/html": [
       "<div>\n",
       "<style scoped>\n",
       "    .dataframe tbody tr th:only-of-type {\n",
       "        vertical-align: middle;\n",
       "    }\n",
       "\n",
       "    .dataframe tbody tr th {\n",
       "        vertical-align: top;\n",
       "    }\n",
       "\n",
       "    .dataframe thead th {\n",
       "        text-align: right;\n",
       "    }\n",
       "</style>\n",
       "<table border=\"1\" class=\"dataframe\">\n",
       "  <thead>\n",
       "    <tr style=\"text-align: right;\">\n",
       "      <th></th>\n",
       "      <th>index</th>\n",
       "      <th>timestamp</th>\n",
       "      <th>open</th>\n",
       "      <th>high</th>\n",
       "      <th>low</th>\n",
       "      <th>close</th>\n",
       "      <th>volume</th>\n",
       "    </tr>\n",
       "  </thead>\n",
       "  <tbody>\n",
       "    <tr>\n",
       "      <th>0</th>\n",
       "      <td>0</td>\n",
       "      <td>2017-01-02 09:15:00+05:30</td>\n",
       "      <td>451.40</td>\n",
       "      <td>452.00</td>\n",
       "      <td>450.60</td>\n",
       "      <td>451.20</td>\n",
       "      <td>29198.0</td>\n",
       "    </tr>\n",
       "    <tr>\n",
       "      <th>1</th>\n",
       "      <td>1</td>\n",
       "      <td>2017-01-02 09:16:00+05:30</td>\n",
       "      <td>451.15</td>\n",
       "      <td>451.15</td>\n",
       "      <td>450.50</td>\n",
       "      <td>450.80</td>\n",
       "      <td>12539.0</td>\n",
       "    </tr>\n",
       "    <tr>\n",
       "      <th>2</th>\n",
       "      <td>2</td>\n",
       "      <td>2017-01-02 09:17:00+05:30</td>\n",
       "      <td>450.50</td>\n",
       "      <td>450.80</td>\n",
       "      <td>449.30</td>\n",
       "      <td>449.30</td>\n",
       "      <td>26833.0</td>\n",
       "    </tr>\n",
       "    <tr>\n",
       "      <th>3</th>\n",
       "      <td>3</td>\n",
       "      <td>2017-01-02 09:18:00+05:30</td>\n",
       "      <td>449.30</td>\n",
       "      <td>450.10</td>\n",
       "      <td>448.95</td>\n",
       "      <td>449.75</td>\n",
       "      <td>12067.0</td>\n",
       "    </tr>\n",
       "    <tr>\n",
       "      <th>4</th>\n",
       "      <td>4</td>\n",
       "      <td>2017-01-02 09:19:00+05:30</td>\n",
       "      <td>449.75</td>\n",
       "      <td>450.30</td>\n",
       "      <td>449.25</td>\n",
       "      <td>449.80</td>\n",
       "      <td>15675.0</td>\n",
       "    </tr>\n",
       "    <tr>\n",
       "      <th>...</th>\n",
       "      <td>...</td>\n",
       "      <td>...</td>\n",
       "      <td>...</td>\n",
       "      <td>...</td>\n",
       "      <td>...</td>\n",
       "      <td>...</td>\n",
       "      <td>...</td>\n",
       "    </tr>\n",
       "    <tr>\n",
       "      <th>370541</th>\n",
       "      <td>370541</td>\n",
       "      <td>2021-01-01 15:25:00+05:30</td>\n",
       "      <td>624.35</td>\n",
       "      <td>624.35</td>\n",
       "      <td>623.65</td>\n",
       "      <td>624.00</td>\n",
       "      <td>28490.0</td>\n",
       "    </tr>\n",
       "    <tr>\n",
       "      <th>370542</th>\n",
       "      <td>370542</td>\n",
       "      <td>2021-01-01 15:26:00+05:30</td>\n",
       "      <td>624.00</td>\n",
       "      <td>624.00</td>\n",
       "      <td>623.50</td>\n",
       "      <td>623.55</td>\n",
       "      <td>13972.0</td>\n",
       "    </tr>\n",
       "    <tr>\n",
       "      <th>370543</th>\n",
       "      <td>370543</td>\n",
       "      <td>2021-01-01 15:27:00+05:30</td>\n",
       "      <td>623.55</td>\n",
       "      <td>623.60</td>\n",
       "      <td>622.95</td>\n",
       "      <td>623.00</td>\n",
       "      <td>20251.0</td>\n",
       "    </tr>\n",
       "    <tr>\n",
       "      <th>370544</th>\n",
       "      <td>370544</td>\n",
       "      <td>2021-01-01 15:28:00+05:30</td>\n",
       "      <td>623.20</td>\n",
       "      <td>623.25</td>\n",
       "      <td>621.55</td>\n",
       "      <td>622.55</td>\n",
       "      <td>50190.0</td>\n",
       "    </tr>\n",
       "    <tr>\n",
       "      <th>370545</th>\n",
       "      <td>370545</td>\n",
       "      <td>2021-01-01 15:29:00+05:30</td>\n",
       "      <td>622.20</td>\n",
       "      <td>624.50</td>\n",
       "      <td>622.00</td>\n",
       "      <td>623.40</td>\n",
       "      <td>24345.0</td>\n",
       "    </tr>\n",
       "  </tbody>\n",
       "</table>\n",
       "<p>370546 rows × 7 columns</p>\n",
       "</div>"
      ],
      "text/plain": [
       "         index                 timestamp    open    high     low   close  \\\n",
       "0            0 2017-01-02 09:15:00+05:30  451.40  452.00  450.60  451.20   \n",
       "1            1 2017-01-02 09:16:00+05:30  451.15  451.15  450.50  450.80   \n",
       "2            2 2017-01-02 09:17:00+05:30  450.50  450.80  449.30  449.30   \n",
       "3            3 2017-01-02 09:18:00+05:30  449.30  450.10  448.95  449.75   \n",
       "4            4 2017-01-02 09:19:00+05:30  449.75  450.30  449.25  449.80   \n",
       "...        ...                       ...     ...     ...     ...     ...   \n",
       "370541  370541 2021-01-01 15:25:00+05:30  624.35  624.35  623.65  624.00   \n",
       "370542  370542 2021-01-01 15:26:00+05:30  624.00  624.00  623.50  623.55   \n",
       "370543  370543 2021-01-01 15:27:00+05:30  623.55  623.60  622.95  623.00   \n",
       "370544  370544 2021-01-01 15:28:00+05:30  623.20  623.25  621.55  622.55   \n",
       "370545  370545 2021-01-01 15:29:00+05:30  622.20  624.50  622.00  623.40   \n",
       "\n",
       "         volume  \n",
       "0       29198.0  \n",
       "1       12539.0  \n",
       "2       26833.0  \n",
       "3       12067.0  \n",
       "4       15675.0  \n",
       "...         ...  \n",
       "370541  28490.0  \n",
       "370542  13972.0  \n",
       "370543  20251.0  \n",
       "370544  50190.0  \n",
       "370545  24345.0  \n",
       "\n",
       "[370546 rows x 7 columns]"
      ]
     },
     "execution_count": 15,
     "metadata": {},
     "output_type": "execute_result"
    }
   ],
   "source": [
    "new_df.reset_index(inplace=True)\n",
    "new_df"
   ]
  },
  {
   "cell_type": "code",
   "execution_count": 17,
   "id": "00f85c31",
   "metadata": {},
   "outputs": [
    {
     "data": {
      "text/plain": [
       "0         451.20\n",
       "1         450.80\n",
       "2         449.30\n",
       "3         449.75\n",
       "4         449.80\n",
       "           ...  \n",
       "370541    624.00\n",
       "370542    623.55\n",
       "370543    623.00\n",
       "370544    622.55\n",
       "370545    623.40\n",
       "Name: close, Length: 370546, dtype: float64"
      ]
     },
     "execution_count": 17,
     "metadata": {},
     "output_type": "execute_result"
    }
   ],
   "source": [
    "close_df=new_df['close']\n",
    "close_df"
   ]
  },
  {
   "cell_type": "code",
   "execution_count": 18,
   "id": "23bcd0bc",
   "metadata": {},
   "outputs": [
    {
     "data": {
      "text/plain": [
       "(370546,)"
      ]
     },
     "execution_count": 18,
     "metadata": {},
     "output_type": "execute_result"
    }
   ],
   "source": [
    "close_df.shape"
   ]
  },
  {
   "cell_type": "code",
   "execution_count": 19,
   "id": "270c4586",
   "metadata": {},
   "outputs": [
    {
     "data": {
      "text/plain": [
       "370546"
      ]
     },
     "execution_count": 19,
     "metadata": {},
     "output_type": "execute_result"
    }
   ],
   "source": [
    "close_df.size"
   ]
  },
  {
   "cell_type": "code",
   "execution_count": 20,
   "id": "798c7981",
   "metadata": {},
   "outputs": [
    {
     "data": {
      "text/plain": [
       "array([[0.30228243],\n",
       "       [0.30154017],\n",
       "       [0.29875673],\n",
       "       ...,\n",
       "       [0.62107998],\n",
       "       [0.62024494],\n",
       "       [0.62182223]])"
      ]
     },
     "execution_count": 20,
     "metadata": {},
     "output_type": "execute_result"
    }
   ],
   "source": [
    "scaler=MinMaxScaler(feature_range=(0,1))\n",
    "close_df=scaler.fit_transform(np.array(close_df).reshape(-1,1))\n",
    "close_df"
   ]
  },
  {
   "cell_type": "markdown",
   "id": "b8d779e6",
   "metadata": {},
   "source": [
    "### train and test split"
   ]
  },
  {
   "cell_type": "code",
   "execution_count": 21,
   "id": "bd5cf29b",
   "metadata": {},
   "outputs": [],
   "source": [
    "training_size=int(len(close_df)*0.7)\n",
    "test_size=len(close_df)-training_size\n",
    "train_data, test_data=close_df[0:training_size,:], close_df[training_size:len(close_df),:1]"
   ]
  },
  {
   "cell_type": "code",
   "execution_count": 22,
   "id": "d134444d",
   "metadata": {},
   "outputs": [
    {
     "data": {
      "text/plain": [
       "((259382, 1), (370546, 1))"
      ]
     },
     "execution_count": 22,
     "metadata": {},
     "output_type": "execute_result"
    }
   ],
   "source": [
    "train_data.shape, close_df.shape"
   ]
  },
  {
   "cell_type": "code",
   "execution_count": 23,
   "id": "2547a69f",
   "metadata": {},
   "outputs": [
    {
     "data": {
      "text/plain": [
       "(111164, 1)"
      ]
     },
     "execution_count": 23,
     "metadata": {},
     "output_type": "execute_result"
    }
   ],
   "source": [
    "test_data.shape"
   ]
  },
  {
   "cell_type": "code",
   "execution_count": 24,
   "id": "684f8be5",
   "metadata": {},
   "outputs": [
    {
     "data": {
      "text/plain": [
       "numpy.ndarray"
      ]
     },
     "execution_count": 24,
     "metadata": {},
     "output_type": "execute_result"
    }
   ],
   "source": [
    "type(test_data)"
   ]
  },
  {
   "cell_type": "code",
   "execution_count": 25,
   "id": "e3c8e9c6",
   "metadata": {},
   "outputs": [],
   "source": [
    "import numpy as np\n",
    "def create_dataset(dataset, time_step=1):\n",
    "    dataX=[]\n",
    "    dataY=[]\n",
    "    for i in range(len(dataset)-time_step-1):\n",
    "        a=dataset[i:(i+time_step),0]\n",
    "        dataX.append(a)\n",
    "        dataY.append(dataset[i+time_step, 0])\n",
    "        return np.array(dataX), np.array(dataY)"
   ]
  },
  {
   "cell_type": "code",
   "execution_count": 27,
   "id": "f6a76bb4",
   "metadata": {},
   "outputs": [],
   "source": [
    "time_step=100\n",
    "X_train, y_train= create_dataset(train_data, time_step)\n",
    "X_test, y_test= create_dataset(test_data, time_step)\n"
   ]
  },
  {
   "cell_type": "code",
   "execution_count": 28,
   "id": "7e4c1dd8",
   "metadata": {},
   "outputs": [],
   "source": [
    "X_test, y_test= create_dataset(test_data, time_step)"
   ]
  },
  {
   "cell_type": "code",
   "execution_count": 29,
   "id": "701af139",
   "metadata": {},
   "outputs": [
    {
     "data": {
      "text/plain": [
       "(1,)"
      ]
     },
     "execution_count": 29,
     "metadata": {},
     "output_type": "execute_result"
    }
   ],
   "source": [
    "y_train.shape"
   ]
  },
  {
   "cell_type": "code",
   "execution_count": 30,
   "id": "a638ab05",
   "metadata": {},
   "outputs": [
    {
     "data": {
      "text/plain": [
       "(1, 100)"
      ]
     },
     "execution_count": 30,
     "metadata": {},
     "output_type": "execute_result"
    }
   ],
   "source": [
    "X_train.shape"
   ]
  },
  {
   "cell_type": "code",
   "execution_count": 31,
   "id": "1cd101d7",
   "metadata": {},
   "outputs": [
    {
     "name": "stdout",
     "output_type": "stream",
     "text": [
      "(1, 100)\n",
      "(1,)\n"
     ]
    },
    {
     "data": {
      "text/plain": [
       "(None, None)"
      ]
     },
     "execution_count": 31,
     "metadata": {},
     "output_type": "execute_result"
    }
   ],
   "source": [
    "print(X_test.shape), print(y_test.shape)"
   ]
  },
  {
   "cell_type": "code",
   "execution_count": 32,
   "id": "541f2d25",
   "metadata": {},
   "outputs": [],
   "source": [
    "X_train=X_train.reshape(X_train.shape[0], X_train.shape[1],1)\n",
    "X_test=X_test.reshape(X_test.shape[0],X_test.shape[1],1)"
   ]
  },
  {
   "cell_type": "code",
   "execution_count": 35,
   "id": "330dc123",
   "metadata": {
    "scrolled": true
   },
   "outputs": [],
   "source": [
    "from tensorflow.keras.models import Sequential\n",
    "from tensorflow.keras.layers import Dense\n",
    "from tensorflow.keras.layers import LSTM\n",
    "M= Sequential()\n",
    "M.add(LSTM(50, return_sequences=True,input_shape=(time_step,1)))\n",
    "M.add(LSTM(50,return_sequences=True))\n",
    "M.add(LSTM(50))\n",
    "M.add(Dense(1))\n",
    "M.compile(loss='mean_squared_error', optimizer='adam')"
   ]
  },
  {
   "cell_type": "code",
   "execution_count": 36,
   "id": "71a20724",
   "metadata": {},
   "outputs": [],
   "source": [
    "M = Sequential()\n",
    "M.add(LSTM(50, return_sequences=True, input_shape=(100,1)))\n",
    "M.add(LSTM(50, return_sequences=True, input_shape=(100,1)))\n",
    "M.add(LSTM(50))\n",
    "M.add(Dense(1))\n",
    "M.compile(loss='mean_squared_error', optimizer='adam', metrics='acc')"
   ]
  },
  {
   "cell_type": "code",
   "execution_count": 37,
   "id": "7b0fd95c",
   "metadata": {},
   "outputs": [
    {
     "name": "stdout",
     "output_type": "stream",
     "text": [
      "Model: \"sequential_1\"\n",
      "_________________________________________________________________\n",
      " Layer (type)                Output Shape              Param #   \n",
      "=================================================================\n",
      " lstm_3 (LSTM)               (None, 100, 50)           10400     \n",
      "                                                                 \n",
      " lstm_4 (LSTM)               (None, 100, 50)           20200     \n",
      "                                                                 \n",
      " lstm_5 (LSTM)               (None, 50)                20200     \n",
      "                                                                 \n",
      " dense_1 (Dense)             (None, 1)                 51        \n",
      "                                                                 \n",
      "=================================================================\n",
      "Total params: 50851 (198.64 KB)\n",
      "Trainable params: 50851 (198.64 KB)\n",
      "Non-trainable params: 0 (0.00 Byte)\n",
      "_________________________________________________________________\n"
     ]
    }
   ],
   "source": [
    "M.summary()"
   ]
  },
  {
   "cell_type": "code",
   "execution_count": 38,
   "id": "f1aa7368",
   "metadata": {},
   "outputs": [
    {
     "name": "stdout",
     "output_type": "stream",
     "text": [
      "Epoch 1/100\n",
      "1/1 [==============================] - 16s 16s/step - loss: 0.0772 - acc: 0.0000e+00 - val_loss: 0.4394 - val_acc: 0.0000e+00\n",
      "Epoch 2/100\n",
      "1/1 [==============================] - 0s 289ms/step - loss: 0.0521 - acc: 0.0000e+00 - val_loss: 0.3071 - val_acc: 0.0000e+00\n",
      "Epoch 3/100\n",
      "1/1 [==============================] - 0s 190ms/step - loss: 0.0299 - acc: 0.0000e+00 - val_loss: 0.1773 - val_acc: 0.0000e+00\n",
      "Epoch 4/100\n",
      "1/1 [==============================] - 0s 175ms/step - loss: 0.0112 - acc: 0.0000e+00 - val_loss: 0.0624 - val_acc: 0.0000e+00\n",
      "Epoch 5/100\n",
      "1/1 [==============================] - 0s 171ms/step - loss: 3.8421e-04 - acc: 0.0000e+00 - val_loss: 0.0022 - val_acc: 0.0000e+00\n",
      "Epoch 6/100\n",
      "1/1 [==============================] - 0s 235ms/step - loss: 0.0068 - acc: 0.0000e+00 - val_loss: 2.0304e-04 - val_acc: 0.0000e+00\n",
      "Epoch 7/100\n",
      "1/1 [==============================] - 0s 205ms/step - loss: 0.0141 - acc: 0.0000e+00 - val_loss: 0.0012 - val_acc: 0.0000e+00\n",
      "Epoch 8/100\n",
      "1/1 [==============================] - 0s 261ms/step - loss: 0.0095 - acc: 0.0000e+00 - val_loss: 0.0145 - val_acc: 0.0000e+00\n",
      "Epoch 9/100\n",
      "1/1 [==============================] - 0s 246ms/step - loss: 0.0032 - acc: 0.0000e+00 - val_loss: 0.0417 - val_acc: 0.0000e+00\n",
      "Epoch 10/100\n",
      "1/1 [==============================] - 0s 216ms/step - loss: 2.3920e-04 - acc: 0.0000e+00 - val_loss: 0.0740 - val_acc: 0.0000e+00\n",
      "Epoch 11/100\n",
      "1/1 [==============================] - 0s 174ms/step - loss: 3.2547e-04 - acc: 0.0000e+00 - val_loss: 0.1027 - val_acc: 0.0000e+00\n",
      "Epoch 12/100\n",
      "1/1 [==============================] - 0s 178ms/step - loss: 0.0018 - acc: 0.0000e+00 - val_loss: 0.1233 - val_acc: 0.0000e+00\n",
      "Epoch 13/100\n",
      "1/1 [==============================] - 0s 302ms/step - loss: 0.0032 - acc: 0.0000e+00 - val_loss: 0.1348 - val_acc: 0.0000e+00\n",
      "Epoch 14/100\n",
      "1/1 [==============================] - 0s 266ms/step - loss: 0.0041 - acc: 0.0000e+00 - val_loss: 0.1376 - val_acc: 0.0000e+00\n",
      "Epoch 15/100\n",
      "1/1 [==============================] - 0s 310ms/step - loss: 0.0042 - acc: 0.0000e+00 - val_loss: 0.1334 - val_acc: 0.0000e+00\n",
      "Epoch 16/100\n",
      "1/1 [==============================] - 0s 314ms/step - loss: 0.0036 - acc: 0.0000e+00 - val_loss: 0.1238 - val_acc: 0.0000e+00\n",
      "Epoch 17/100\n",
      "1/1 [==============================] - 0s 296ms/step - loss: 0.0026 - acc: 0.0000e+00 - val_loss: 0.1104 - val_acc: 0.0000e+00\n",
      "Epoch 18/100\n",
      "1/1 [==============================] - 0s 246ms/step - loss: 0.0015 - acc: 0.0000e+00 - val_loss: 0.0951 - val_acc: 0.0000e+00\n",
      "Epoch 19/100\n",
      "1/1 [==============================] - 0s 237ms/step - loss: 5.8557e-04 - acc: 0.0000e+00 - val_loss: 0.0795 - val_acc: 0.0000e+00\n",
      "Epoch 20/100\n",
      "1/1 [==============================] - 0s 236ms/step - loss: 6.7571e-05 - acc: 0.0000e+00 - val_loss: 0.0654 - val_acc: 0.0000e+00\n",
      "Epoch 21/100\n",
      "1/1 [==============================] - 0s 288ms/step - loss: 5.9130e-05 - acc: 0.0000e+00 - val_loss: 0.0541 - val_acc: 0.0000e+00\n",
      "Epoch 22/100\n",
      "1/1 [==============================] - 0s 295ms/step - loss: 4.7245e-04 - acc: 0.0000e+00 - val_loss: 0.0467 - val_acc: 0.0000e+00\n",
      "Epoch 23/100\n",
      "1/1 [==============================] - 0s 241ms/step - loss: 0.0010 - acc: 0.0000e+00 - val_loss: 0.0437 - val_acc: 0.0000e+00\n",
      "Epoch 24/100\n",
      "1/1 [==============================] - 0s 228ms/step - loss: 0.0014 - acc: 0.0000e+00 - val_loss: 0.0446 - val_acc: 0.0000e+00\n",
      "Epoch 25/100\n",
      "1/1 [==============================] - 0s 237ms/step - loss: 0.0013 - acc: 0.0000e+00 - val_loss: 0.0492 - val_acc: 0.0000e+00\n",
      "Epoch 26/100\n",
      "1/1 [==============================] - 0s 243ms/step - loss: 9.8586e-04 - acc: 0.0000e+00 - val_loss: 0.0565 - val_acc: 0.0000e+00\n",
      "Epoch 27/100\n",
      "1/1 [==============================] - 0s 294ms/step - loss: 5.3141e-04 - acc: 0.0000e+00 - val_loss: 0.0655 - val_acc: 0.0000e+00\n",
      "Epoch 28/100\n",
      "1/1 [==============================] - 0s 274ms/step - loss: 1.7344e-04 - acc: 0.0000e+00 - val_loss: 0.0753 - val_acc: 0.0000e+00\n",
      "Epoch 29/100\n",
      "1/1 [==============================] - 0s 262ms/step - loss: 1.0217e-05 - acc: 0.0000e+00 - val_loss: 0.0846 - val_acc: 0.0000e+00\n",
      "Epoch 30/100\n",
      "1/1 [==============================] - 0s 286ms/step - loss: 3.3540e-05 - acc: 0.0000e+00 - val_loss: 0.0926 - val_acc: 0.0000e+00\n",
      "Epoch 31/100\n",
      "1/1 [==============================] - 0s 249ms/step - loss: 1.7163e-04 - acc: 0.0000e+00 - val_loss: 0.0986 - val_acc: 0.0000e+00\n",
      "Epoch 32/100\n",
      "1/1 [==============================] - 0s 237ms/step - loss: 3.3699e-04 - acc: 0.0000e+00 - val_loss: 0.1024 - val_acc: 0.0000e+00\n",
      "Epoch 33/100\n",
      "1/1 [==============================] - 0s 282ms/step - loss: 4.5896e-04 - acc: 0.0000e+00 - val_loss: 0.1039 - val_acc: 0.0000e+00\n",
      "Epoch 34/100\n",
      "1/1 [==============================] - 0s 285ms/step - loss: 4.9871e-04 - acc: 0.0000e+00 - val_loss: 0.1031 - val_acc: 0.0000e+00\n",
      "Epoch 35/100\n",
      "1/1 [==============================] - 0s 271ms/step - loss: 4.5114e-04 - acc: 0.0000e+00 - val_loss: 0.1004 - val_acc: 0.0000e+00\n",
      "Epoch 36/100\n",
      "1/1 [==============================] - 0s 269ms/step - loss: 3.3877e-04 - acc: 0.0000e+00 - val_loss: 0.0962 - val_acc: 0.0000e+00\n",
      "Epoch 37/100\n",
      "1/1 [==============================] - 0s 247ms/step - loss: 2.0092e-04 - acc: 0.0000e+00 - val_loss: 0.0911 - val_acc: 0.0000e+00\n",
      "Epoch 38/100\n",
      "1/1 [==============================] - 0s 259ms/step - loss: 8.0597e-05 - acc: 0.0000e+00 - val_loss: 0.0857 - val_acc: 0.0000e+00\n",
      "Epoch 39/100\n",
      "1/1 [==============================] - 0s 295ms/step - loss: 1.1029e-05 - acc: 0.0000e+00 - val_loss: 0.0806 - val_acc: 0.0000e+00\n",
      "Epoch 40/100\n",
      "1/1 [==============================] - 0s 250ms/step - loss: 5.0007e-06 - acc: 0.0000e+00 - val_loss: 0.0761 - val_acc: 0.0000e+00\n",
      "Epoch 41/100\n",
      "1/1 [==============================] - 0s 279ms/step - loss: 5.0812e-05 - acc: 0.0000e+00 - val_loss: 0.0729 - val_acc: 0.0000e+00\n",
      "Epoch 42/100\n",
      "1/1 [==============================] - 0s 248ms/step - loss: 1.1776e-04 - acc: 0.0000e+00 - val_loss: 0.0711 - val_acc: 0.0000e+00\n",
      "Epoch 43/100\n",
      "1/1 [==============================] - 0s 251ms/step - loss: 1.7020e-04 - acc: 0.0000e+00 - val_loss: 0.0708 - val_acc: 0.0000e+00\n",
      "Epoch 44/100\n",
      "1/1 [==============================] - 0s 235ms/step - loss: 1.8382e-04 - acc: 0.0000e+00 - val_loss: 0.0720 - val_acc: 0.0000e+00\n",
      "Epoch 45/100\n",
      "1/1 [==============================] - 0s 275ms/step - loss: 1.5541e-04 - acc: 0.0000e+00 - val_loss: 0.0744 - val_acc: 0.0000e+00\n",
      "Epoch 46/100\n",
      "1/1 [==============================] - 0s 221ms/step - loss: 1.0115e-04 - acc: 0.0000e+00 - val_loss: 0.0776 - val_acc: 0.0000e+00\n",
      "Epoch 47/100\n",
      "1/1 [==============================] - 0s 285ms/step - loss: 4.5638e-05 - acc: 0.0000e+00 - val_loss: 0.0813 - val_acc: 0.0000e+00\n",
      "Epoch 48/100\n",
      "1/1 [==============================] - 0s 267ms/step - loss: 9.2678e-06 - acc: 0.0000e+00 - val_loss: 0.0849 - val_acc: 0.0000e+00\n",
      "Epoch 49/100\n",
      "1/1 [==============================] - 0s 223ms/step - loss: 3.7588e-07 - acc: 0.0000e+00 - val_loss: 0.0883 - val_acc: 0.0000e+00\n",
      "Epoch 50/100\n",
      "1/1 [==============================] - 0s 253ms/step - loss: 1.4632e-05 - acc: 0.0000e+00 - val_loss: 0.0909 - val_acc: 0.0000e+00\n",
      "Epoch 51/100\n",
      "1/1 [==============================] - 0s 262ms/step - loss: 3.9722e-05 - acc: 0.0000e+00 - val_loss: 0.0926 - val_acc: 0.0000e+00\n",
      "Epoch 52/100\n",
      "1/1 [==============================] - 0s 204ms/step - loss: 6.1902e-05 - acc: 0.0000e+00 - val_loss: 0.0933 - val_acc: 0.0000e+00\n",
      "Epoch 53/100\n",
      "1/1 [==============================] - 0s 259ms/step - loss: 7.1430e-05 - acc: 0.0000e+00 - val_loss: 0.0930 - val_acc: 0.0000e+00\n",
      "Epoch 54/100\n",
      "1/1 [==============================] - 0s 242ms/step - loss: 6.5364e-05 - acc: 0.0000e+00 - val_loss: 0.0918 - val_acc: 0.0000e+00\n",
      "Epoch 55/100\n",
      "1/1 [==============================] - 0s 274ms/step - loss: 4.7392e-05 - acc: 0.0000e+00 - val_loss: 0.0900 - val_acc: 0.0000e+00\n",
      "Epoch 56/100\n",
      "1/1 [==============================] - 0s 225ms/step - loss: 2.5394e-05 - acc: 0.0000e+00 - val_loss: 0.0879 - val_acc: 0.0000e+00\n",
      "Epoch 57/100\n",
      "1/1 [==============================] - 0s 268ms/step - loss: 7.8043e-06 - acc: 0.0000e+00 - val_loss: 0.0856 - val_acc: 0.0000e+00\n",
      "Epoch 58/100\n"
     ]
    },
    {
     "name": "stdout",
     "output_type": "stream",
     "text": [
      "1/1 [==============================] - 0s 242ms/step - loss: 1.7887e-07 - acc: 0.0000e+00 - val_loss: 0.0835 - val_acc: 0.0000e+00\n",
      "Epoch 59/100\n",
      "1/1 [==============================] - 0s 248ms/step - loss: 3.2146e-06 - acc: 0.0000e+00 - val_loss: 0.0818 - val_acc: 0.0000e+00\n",
      "Epoch 60/100\n",
      "1/1 [==============================] - 0s 257ms/step - loss: 1.2977e-05 - acc: 0.0000e+00 - val_loss: 0.0807 - val_acc: 0.0000e+00\n",
      "Epoch 61/100\n",
      "1/1 [==============================] - 0s 239ms/step - loss: 2.3175e-05 - acc: 0.0000e+00 - val_loss: 0.0802 - val_acc: 0.0000e+00\n",
      "Epoch 62/100\n",
      "1/1 [==============================] - 0s 260ms/step - loss: 2.8338e-05 - acc: 0.0000e+00 - val_loss: 0.0805 - val_acc: 0.0000e+00\n",
      "Epoch 63/100\n",
      "1/1 [==============================] - 0s 283ms/step - loss: 2.6252e-05 - acc: 0.0000e+00 - val_loss: 0.0813 - val_acc: 0.0000e+00\n",
      "Epoch 64/100\n",
      "1/1 [==============================] - 0s 266ms/step - loss: 1.8516e-05 - acc: 0.0000e+00 - val_loss: 0.0826 - val_acc: 0.0000e+00\n",
      "Epoch 65/100\n",
      "1/1 [==============================] - 0s 264ms/step - loss: 9.1437e-06 - acc: 0.0000e+00 - val_loss: 0.0841 - val_acc: 0.0000e+00\n",
      "Epoch 66/100\n",
      "1/1 [==============================] - 0s 260ms/step - loss: 2.2271e-06 - acc: 0.0000e+00 - val_loss: 0.0856 - val_acc: 0.0000e+00\n",
      "Epoch 67/100\n",
      "1/1 [==============================] - 0s 218ms/step - loss: 5.5112e-09 - acc: 0.0000e+00 - val_loss: 0.0870 - val_acc: 0.0000e+00\n",
      "Epoch 68/100\n",
      "1/1 [==============================] - 0s 283ms/step - loss: 2.1844e-06 - acc: 0.0000e+00 - val_loss: 0.0882 - val_acc: 0.0000e+00\n",
      "Epoch 69/100\n",
      "1/1 [==============================] - 0s 299ms/step - loss: 6.5638e-06 - acc: 0.0000e+00 - val_loss: 0.0888 - val_acc: 0.0000e+00\n",
      "Epoch 70/100\n",
      "1/1 [==============================] - 0s 228ms/step - loss: 1.0396e-05 - acc: 0.0000e+00 - val_loss: 0.0891 - val_acc: 0.0000e+00\n",
      "Epoch 71/100\n",
      "1/1 [==============================] - 0s 227ms/step - loss: 1.1719e-05 - acc: 0.0000e+00 - val_loss: 0.0888 - val_acc: 0.0000e+00\n",
      "Epoch 72/100\n",
      "1/1 [==============================] - 0s 249ms/step - loss: 1.0084e-05 - acc: 0.0000e+00 - val_loss: 0.0882 - val_acc: 0.0000e+00\n",
      "Epoch 73/100\n",
      "1/1 [==============================] - 0s 245ms/step - loss: 6.5044e-06 - acc: 0.0000e+00 - val_loss: 0.0874 - val_acc: 0.0000e+00\n",
      "Epoch 74/100\n",
      "1/1 [==============================] - 0s 245ms/step - loss: 2.7458e-06 - acc: 0.0000e+00 - val_loss: 0.0864 - val_acc: 0.0000e+00\n",
      "Epoch 75/100\n",
      "1/1 [==============================] - 0s 170ms/step - loss: 3.9798e-07 - acc: 0.0000e+00 - val_loss: 0.0854 - val_acc: 0.0000e+00\n",
      "Epoch 76/100\n",
      "1/1 [==============================] - 0s 272ms/step - loss: 1.4794e-07 - acc: 0.0000e+00 - val_loss: 0.0845 - val_acc: 0.0000e+00\n",
      "Epoch 77/100\n",
      "1/1 [==============================] - 0s 210ms/step - loss: 1.5792e-06 - acc: 0.0000e+00 - val_loss: 0.0839 - val_acc: 0.0000e+00\n",
      "Epoch 78/100\n",
      "1/1 [==============================] - 0s 255ms/step - loss: 3.5330e-06 - acc: 0.0000e+00 - val_loss: 0.0836 - val_acc: 0.0000e+00\n",
      "Epoch 79/100\n",
      "1/1 [==============================] - 0s 290ms/step - loss: 4.7953e-06 - acc: 0.0000e+00 - val_loss: 0.0837 - val_acc: 0.0000e+00\n",
      "Epoch 80/100\n",
      "1/1 [==============================] - 0s 230ms/step - loss: 4.7147e-06 - acc: 0.0000e+00 - val_loss: 0.0840 - val_acc: 0.0000e+00\n",
      "Epoch 81/100\n",
      "1/1 [==============================] - 0s 216ms/step - loss: 3.4447e-06 - acc: 0.0000e+00 - val_loss: 0.0845 - val_acc: 0.0000e+00\n",
      "Epoch 82/100\n",
      "1/1 [==============================] - 0s 279ms/step - loss: 1.7283e-06 - acc: 0.0000e+00 - val_loss: 0.0852 - val_acc: 0.0000e+00\n",
      "Epoch 83/100\n",
      "1/1 [==============================] - 0s 281ms/step - loss: 4.1389e-07 - acc: 0.0000e+00 - val_loss: 0.0859 - val_acc: 0.0000e+00\n",
      "Epoch 84/100\n",
      "1/1 [==============================] - 0s 251ms/step - loss: 2.7294e-09 - acc: 0.0000e+00 - val_loss: 0.0865 - val_acc: 0.0000e+00\n",
      "Epoch 85/100\n",
      "1/1 [==============================] - 0s 303ms/step - loss: 4.5361e-07 - acc: 0.0000e+00 - val_loss: 0.0870 - val_acc: 0.0000e+00\n",
      "Epoch 86/100\n",
      "1/1 [==============================] - 0s 247ms/step - loss: 1.3025e-06 - acc: 0.0000e+00 - val_loss: 0.0872 - val_acc: 0.0000e+00\n",
      "Epoch 87/100\n",
      "1/1 [==============================] - 0s 232ms/step - loss: 1.9740e-06 - acc: 0.0000e+00 - val_loss: 0.0873 - val_acc: 0.0000e+00\n",
      "Epoch 88/100\n",
      "1/1 [==============================] - 0s 243ms/step - loss: 2.0926e-06 - acc: 0.0000e+00 - val_loss: 0.0871 - val_acc: 0.0000e+00\n",
      "Epoch 89/100\n",
      "1/1 [==============================] - 0s 233ms/step - loss: 1.6393e-06 - acc: 0.0000e+00 - val_loss: 0.0868 - val_acc: 0.0000e+00\n",
      "Epoch 90/100\n",
      "1/1 [==============================] - 0s 261ms/step - loss: 8.9850e-07 - acc: 0.0000e+00 - val_loss: 0.0864 - val_acc: 0.0000e+00\n",
      "Epoch 91/100\n",
      "1/1 [==============================] - 0s 271ms/step - loss: 2.6087e-07 - acc: 0.0000e+00 - val_loss: 0.0859 - val_acc: 0.0000e+00\n",
      "Epoch 92/100\n",
      "1/1 [==============================] - 0s 261ms/step - loss: 1.6622e-09 - acc: 0.0000e+00 - val_loss: 0.0855 - val_acc: 0.0000e+00\n",
      "Epoch 93/100\n",
      "1/1 [==============================] - 0s 207ms/step - loss: 1.5310e-07 - acc: 0.0000e+00 - val_loss: 0.0852 - val_acc: 0.0000e+00\n",
      "Epoch 94/100\n",
      "1/1 [==============================] - 0s 246ms/step - loss: 5.2584e-07 - acc: 0.0000e+00 - val_loss: 0.0850 - val_acc: 0.0000e+00\n",
      "Epoch 95/100\n",
      "1/1 [==============================] - 0s 243ms/step - loss: 8.4711e-07 - acc: 0.0000e+00 - val_loss: 0.0849 - val_acc: 0.0000e+00\n",
      "Epoch 96/100\n",
      "1/1 [==============================] - 0s 215ms/step - loss: 9.2136e-07 - acc: 0.0000e+00 - val_loss: 0.0850 - val_acc: 0.0000e+00\n",
      "Epoch 97/100\n",
      "1/1 [==============================] - 0s 245ms/step - loss: 7.2568e-07 - acc: 0.0000e+00 - val_loss: 0.0853 - val_acc: 0.0000e+00\n",
      "Epoch 98/100\n",
      "1/1 [==============================] - 0s 260ms/step - loss: 3.9169e-07 - acc: 0.0000e+00 - val_loss: 0.0856 - val_acc: 0.0000e+00\n",
      "Epoch 99/100\n",
      "1/1 [==============================] - 0s 212ms/step - loss: 1.0696e-07 - acc: 0.0000e+00 - val_loss: 0.0859 - val_acc: 0.0000e+00\n",
      "Epoch 100/100\n",
      "1/1 [==============================] - 0s 282ms/step - loss: 5.6403e-11 - acc: 0.0000e+00 - val_loss: 0.0862 - val_acc: 0.0000e+00\n"
     ]
    }
   ],
   "source": [
    "M.fit(X_train, y_train, validation_data = (X_test, y_test), epochs =100, batch_size = 64, verbose = 1);"
   ]
  },
  {
   "cell_type": "code",
   "execution_count": 39,
   "id": "5d6cf68e",
   "metadata": {},
   "outputs": [
    {
     "data": {
      "image/png": "[encoded data removed]",
      "text/plain": [
       "<Figure size 640x480 with 1 Axes>"
      ]
     },
     "metadata": {},
     "output_type": "display_data"
    }
   ],
   "source": [
    "loss=M.history.history['loss']\n",
    "plt.plot(loss)\n",
    "plt.xlabel(\"No.of iteration...\")\n",
    "plt.ylabel(\"loss value...\")\n",
    "plt.title(\"variation of loss value with No. of iteration\",color=\"orange\",fontsize=16,fontweight=\"bold\");"
   ]
  },
  {
   "cell_type": "code",
   "execution_count": 40,
   "id": "43fb2aec",
   "metadata": {},
   "outputs": [
    {
     "name": "stdout",
     "output_type": "stream",
     "text": [
      "1/1 [==============================] - 3s 3s/step\n"
     ]
    }
   ],
   "source": [
    "train_predict1=M.predict(X_train)"
   ]
  },
  {
   "cell_type": "code",
   "execution_count": 41,
   "id": "63c577fa",
   "metadata": {},
   "outputs": [
    {
     "name": "stdout",
     "output_type": "stream",
     "text": [
      "1/1 [==============================] - 0s 61ms/step\n"
     ]
    }
   ],
   "source": [
    "test_predict1=M.predict(X_test)"
   ]
  },
  {
   "cell_type": "code",
   "execution_count": 42,
   "id": "fe20593c",
   "metadata": {},
   "outputs": [],
   "source": [
    "train_predict1=scaler.inverse_transform(train_predict1)\n",
    "test_predict1=scaler.inverse_transform(test_predict1)"
   ]
  },
  {
   "cell_type": "code",
   "execution_count": 43,
   "id": "1afc6a5d",
   "metadata": {},
   "outputs": [
    {
     "data": {
      "text/plain": [
       "442.5606815566776"
      ]
     },
     "execution_count": 43,
     "metadata": {},
     "output_type": "execute_result"
    }
   ],
   "source": [
    "import math\n",
    "from sklearn.metrics import mean_squared_error\n",
    "math.sqrt(mean_squared_error(y_train,train_predict1))\n"
   ]
  },
  {
   "cell_type": "code",
   "execution_count": 44,
   "id": "d3f37dd5",
   "metadata": {},
   "outputs": [
    {
     "data": {
      "text/plain": [
       "551.3738130026877"
      ]
     },
     "execution_count": 44,
     "metadata": {},
     "output_type": "execute_result"
    }
   ],
   "source": [
    "math.sqrt(mean_squared_error(y_test,test_predict1))"
   ]
  },
  {
   "cell_type": "code",
   "execution_count": 45,
   "id": "b7c13489",
   "metadata": {},
   "outputs": [
    {
     "data": {
      "text/plain": [
       "array([[0.30228243],\n",
       "       [0.30154017],\n",
       "       [0.29875673],\n",
       "       ...,\n",
       "       [0.62107998],\n",
       "       [0.62024494],\n",
       "       [0.62182223]])"
      ]
     },
     "execution_count": 45,
     "metadata": {},
     "output_type": "execute_result"
    }
   ],
   "source": [
    "close_df"
   ]
  },
  {
   "cell_type": "code",
   "execution_count": 46,
   "id": "31fd4455",
   "metadata": {},
   "outputs": [
    {
     "data": {
      "text/plain": [
       "(1, 1)"
      ]
     },
     "execution_count": 46,
     "metadata": {},
     "output_type": "execute_result"
    }
   ],
   "source": [
    "train_predict1.shape"
   ]
  },
  {
   "cell_type": "code",
   "execution_count": 47,
   "id": "0dd7277a",
   "metadata": {},
   "outputs": [],
   "source": [
    "# shift train predictions for plotting\n",
    "look_back=100\n",
    "trainPredictPlot = np.empty_like(close_df)\n",
    "trainPredictPlot[:, :] = np.nan\n",
    "trainPredictPlot[look_back:len(train_predict1)+look_back, :] = train_predict1\n",
    "\n",
    "# shift test predictions for plotting\n",
    "testPredictPlot = np.empty_like(close_df)\n",
    "testPredictPlot[:, :] = np.nan\n",
    "testPredictPlot[len(train_predict1)+(look_back*2)+1:len(df)-1, :] = test_predict1"
   ]
  },
  {
   "cell_type": "code",
   "execution_count": 48,
   "id": "69b683ca",
   "metadata": {},
   "outputs": [
    {
     "data": {
      "text/plain": [
       "Text(0, 0.5, 'closing price')"
      ]
     },
     "execution_count": 48,
     "metadata": {},
     "output_type": "execute_result"
    },
    {
     "data": {
      "image/png": "[encoded data removed]",
      "text/plain": [
       "<Figure size 1000x500 with 1 Axes>"
      ]
     },
     "metadata": {},
     "output_type": "display_data"
    }
   ],
   "source": [
    "# plot baseline and predictions\n",
    "plt.figure(figsize=(10,5))\n",
    "plt.plot(scaler.inverse_transform(close_df))\n",
    "plt.title(\"variation of actual dataset\",color=\"orange\",fontsize=16,fontweight=\"bold\")\n",
    "plt.xlabel(\"data index number\")\n",
    "plt.ylabel(\"closing price\")"
   ]
  },
  {
   "cell_type": "code",
   "execution_count": 49,
   "id": "d0483ad0",
   "metadata": {},
   "outputs": [
    {
     "data": {
      "text/plain": [
       "Text(0, 0.5, 'closing price')"
      ]
     },
     "execution_count": 49,
     "metadata": {},
     "output_type": "execute_result"
    },
    {
     "data": {
      "image/png": "[encoded data removed]",
      "text/plain": [
       "<Figure size 640x480 with 1 Axes>"
      ]
     },
     "metadata": {},
     "output_type": "display_data"
    }
   ],
   "source": [
    "#plot of predictions on closing price made by our model on training dataset vs actual closing price\n",
    "plt.plot(scaler.inverse_transform(close_df))\n",
    "plt.plot(trainPredictPlot)\n",
    "plt.title(\"variation of predicted trained dataset(orange) and actual dataset(lightblue)\",color=\"orange\",fontsize=16,fontweight=\"bold\")\n",
    "plt.xlabel(\"data index number\")\n",
    "plt.ylabel(\"closing price\")"
   ]
  },
  {
   "cell_type": "code",
   "execution_count": 50,
   "id": "ec6c4072",
   "metadata": {},
   "outputs": [
    {
     "data": {
      "image/png": "[encoded data removed]",
      "text/plain": [
       "<Figure size 640x480 with 1 Axes>"
      ]
     },
     "metadata": {},
     "output_type": "display_data"
    }
   ],
   "source": [
    "#plot of prediction on closing price made by our model on training dataset vs actual closing price\n",
    "#vs prediction on closing price made by our model on test dataset\n",
    "plt.plot(scaler.inverse_transform(close_df))\n",
    "plt.plot(trainPredictPlot)\n",
    "plt.title(\"variation of predicted tested dataset(green) and actual dataset(lightblue)\",color=\"green\",fontsize=16,fontweight=\"bold\")\n",
    "plt.xlabel(\"data index number\")\n",
    "plt.ylabel(\"closing price\")\n",
    "plt.plot(testPredictPlot)\n",
    "plt.show()"
   ]
  },
  {
   "cell_type": "markdown",
   "id": "a7dff1cc",
   "metadata": {},
   "source": [
    "since our model trained with first 100 data inputs and start predicting from 101 onwards so orange starts from 101 dataindex no. , similar logic for test data\n",
    "light blue=-actual closing price\n",
    "\n",
    "orange=prediction on closing price made by our model on training dataset\n",
    "\n",
    "green=prediction on closing price made by model on test dataset"
   ]
  },
  {
   "cell_type": "code",
   "execution_count": null,
   "id": "3c018272",
   "metadata": {},
   "outputs": [],
   "source": []
  }
 ],
 "metadata": {
  "kernelspec": {
   "display_name": "Python 3 (ipykernel)",
   "language": "python",
   "name": "python3"
  },
  "language_info": {
   "codemirror_mode": {
    "name": "ipython",
    "version": 3
   },
   "file_extension": ".py",
   "mimetype": "text/x-python",
   "name": "python",
   "nbconvert_exporter": "python",
   "pygments_lexer": "ipython3",
   "version": "3.11.4"
  }
 },
 "nbformat": 4,
 "nbformat_minor": 5
}
